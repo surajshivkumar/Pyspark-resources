{
 "cells": [
  {
   "cell_type": "code",
   "execution_count": 1,
   "metadata": {},
   "outputs": [
    {
     "name": "stdout",
     "output_type": "stream",
     "text": [
      "23/04/15 03:55:35 WARN Utils: Your hostname, MBP-SMITH515.local resolves to a loopback address: 127.0.0.1; using 192.168.4.81 instead (on interface en0)\n",
      "23/04/15 03:55:35 WARN Utils: Set SPARK_LOCAL_IP if you need to bind to another address\n"
     ]
    },
    {
     "name": "stderr",
     "output_type": "stream",
     "text": [
      "Setting default log level to \"WARN\".\n",
      "To adjust logging level use sc.setLogLevel(newLevel). For SparkR, use setLogLevel(newLevel).\n"
     ]
    },
    {
     "name": "stdout",
     "output_type": "stream",
     "text": [
      "23/04/15 03:55:35 WARN NativeCodeLoader: Unable to load native-hadoop library for your platform... using builtin-java classes where applicable\n",
      "Spark Session WebUI Port: 4040\n"
     ]
    }
   ],
   "source": [
    "import findspark\n",
    "findspark.init()\n",
    "\n",
    "from pyspark.sql import SparkSession;\n",
    "\n",
    "spark = SparkSession.builder.master(\"local[4]\").appName(\"ISM6562 Spark App01\").enableHiveSupport().getOrCreate();\n",
    "\n",
    "# Let's get the SparkContext object. It's the entry point to the Spark API. It's created when you create a sparksession\n",
    "sc = spark.sparkContext  \n",
    "\n",
    "# note: If you have multiple spark sessions running (like from a previous notebook you've run), \n",
    "# this spark session webUI will be on a different port than the default (4040). One way to \n",
    "# identify this part is with the following line. If there was only one spark session running, \n",
    "# this will be 4040. If it's higher, it means there are still other spark sesssions still running.\n",
    "spark_session_port = spark.sparkContext.uiWebUrl.split(\":\")[-1]\n",
    "print(\"Spark Session WebUI Port: \" + spark_session_port)\n",
    "\n",
    "# It's best if you find that the port number displayed below is not 4040, then you should shut down all other spark sessions and \n",
    "# run this code again. If you don't, you may have trouble accessing the data in the spark-warehouse directory."
   ]
  },
  {
   "cell_type": "code",
   "execution_count": 2,
   "metadata": {},
   "outputs": [
    {
     "data": {
      "text/html": [
       "\n",
       "            <div>\n",
       "                <p><b>SparkSession - hive</b></p>\n",
       "                \n",
       "        <div>\n",
       "            <p><b>SparkContext</b></p>\n",
       "\n",
       "            <p><a href=\"http://192.168.4.81:4040\">Spark UI</a></p>\n",
       "\n",
       "            <dl>\n",
       "              <dt>Version</dt>\n",
       "                <dd><code>v3.3.2</code></dd>\n",
       "              <dt>Master</dt>\n",
       "                <dd><code>local[4]</code></dd>\n",
       "              <dt>AppName</dt>\n",
       "                <dd><code>ISM6562 Spark App01</code></dd>\n",
       "            </dl>\n",
       "        </div>\n",
       "        \n",
       "            </div>\n",
       "        "
      ],
      "text/plain": [
       "<pyspark.sql.session.SparkSession at 0x108791210>"
      ]
     },
     "execution_count": 2,
     "metadata": {},
     "output_type": "execute_result"
    }
   ],
   "source": [
    "spark"
   ]
  },
  {
   "attachments": {},
   "cell_type": "markdown",
   "metadata": {},
   "source": [
    "# Estimating Incident Duration using Linear Regression"
   ]
  },
  {
   "cell_type": "markdown",
   "metadata": {},
   "source": [
    "The Incident Management dataset has about 141712 records of 24918 incidents. Each state of the incident is being captured as an individual record with few exceptions where the closed state of an incident is recorded more than once. With the help of the below segment of the code, we load and clean the Incident Management data so that only one record representing the truly closed state per incident is obtained."
   ]
  },
  {
   "attachments": {},
   "cell_type": "markdown",
   "metadata": {},
   "source": [
    "### Loading our data"
   ]
  },
  {
   "attachments": {},
   "cell_type": "markdown",
   "metadata": {},
   "source": [
    "If you've successfully run the previous incident management notebook, you should have the data in the hive store."
   ]
  },
  {
   "cell_type": "code",
   "execution_count": 3,
   "metadata": {},
   "outputs": [
    {
     "name": "stdout",
     "output_type": "stream",
     "text": [
      "+---------+------------+-----------+\n",
      "|namespace|   tableName|isTemporary|\n",
      "+---------+------------+-----------+\n",
      "|  default|      boston|      false|\n",
      "|  default|fake_friends|      false|\n",
      "|  default|   incidents|      false|\n",
      "|  default|movieratings|      false|\n",
      "|  default|      movies|      false|\n",
      "|  default|      u_item|      false|\n",
      "+---------+------------+-----------+\n",
      "\n"
     ]
    }
   ],
   "source": [
    "spark.sql(\"show tables\").show()"
   ]
  },
  {
   "cell_type": "code",
   "execution_count": 4,
   "metadata": {},
   "outputs": [
    {
     "name": "stdout",
     "output_type": "stream",
     "text": [
      "23/04/15 03:55:41 WARN package: Truncated the string representation of a plan since it was too large. This behavior can be adjusted by setting 'spark.sql.debug.maxToStringFields'.\n",
      "+----------+--------------+------+------------------+------------+-------------+--------+-----------+--------------+---------------+--------------+---------------+--------------+--------------+------------+------------+-----------+---------------+-----------+-------+----------+----------+------------+----------------+------------+---------+-----------------------+-------------+-------------+---+------+---------+-----------+---------------+---------------+--------------+-------------------+-------------------+-------------------+-------------------+-------------------+----------+----------+-----------+-----------+----------+--------+\n",
      "|    number|incident_state|active|reassignment_count|reopen_count|sys_mod_count|made_sla|  caller_id|     opened_by|      opened_at|sys_created_by| sys_created_at|sys_updated_by|sys_updated_at|contact_type|    location|   category|    subcategory|  u_symptom|cmdb_ci|    impact|   urgency|    priority|assignment_group| assigned_to|knowledge|u_priority_confirmation|       notify|   problem_id|rfc|vendor|caused_by|closed_code|    resolved_by|    resolved_at|     closed_at|        resolved_ts|          opened_ts|     sys_created_ts|     sys_updated_ts|          closed_ts|  resolved|    opened|sys_created|sys_updated|    closed|duration|\n",
      "+----------+--------------+------+------------------+------------+-------------+--------+-----------+--------------+---------------+--------------+---------------+--------------+--------------+------------+------------+-----------+---------------+-----------+-------+----------+----------+------------+----------------+------------+---------+-----------------------+-------------+-------------+---+------+---------+-----------+---------------+---------------+--------------+-------------------+-------------------+-------------------+-------------------+-------------------+----------+----------+-----------+-----------+----------+--------+\n",
      "|INC0000045|        Closed| false|                 0|           0|            4|    true|Caller 2403|  Opened by  8|29/2/2016 01:16|  Created by 6|29/2/2016 01:23|Updated by 908|5/3/2016 12:00|       Phone|Location 143|Category 55|Subcategory 170| Symptom 72|      ?|2 - Medium|2 - Medium|3 - Moderate|        Group 56|           ?|     true|                  false|Do Not Notify|            ?|  ?|     ?|        ?|     code 5|Resolved by 149|29/2/2016 11:29|5/3/2016 12:00|2016-02-29 11:29:00|2016-02-29 01:16:00|2016-02-29 01:23:00|2016-03-05 12:00:00|2016-03-05 12:00:00|2016-02-29|2016-02-29| 2016-02-29| 2016-03-05|2016-03-05|       0|\n",
      "|INC0000047|        Closed| false|                 1|           0|            8|    true|Caller 2403|Opened by  397|29/2/2016 04:40|Created by 171|29/2/2016 04:57|Updated by 908|6/3/2016 10:00|       Phone|Location 165|Category 40|Subcategory 215|Symptom 471|      ?|2 - Medium|2 - Medium|3 - Moderate|        Group 24| Resolver 89|     true|                  false|Do Not Notify|            ?|  ?|     ?|        ?|     code 5| Resolved by 81|  1/3/2016 9:52|6/3/2016 10:00|2016-03-01 09:52:00|2016-02-29 04:40:00|2016-02-29 04:57:00|2016-03-06 10:00:00|2016-03-06 10:00:00|2016-03-01|2016-02-29| 2016-02-29| 2016-03-06|2016-03-06|       1|\n",
      "|INC0000057|        Closed| false|                 0|           0|            6|    true|Caller 4416|  Opened by  8|29/2/2016 06:10|             ?|              ?|Updated by 908| 6/3/2016 3:00|       Phone|Location 204|Category 20|Subcategory 125|Symptom 471|      ?|2 - Medium|2 - Medium|3 - Moderate|        Group 70|  Resolver 6|     true|                  false|Do Not Notify|Problem ID  2|  ?|     ?|        ?|    code 10|  Resolved by 5|  1/3/2016 2:55| 6/3/2016 3:00|2016-03-01 02:55:00|2016-02-29 06:10:00|               null|2016-03-06 03:00:00|2016-03-06 03:00:00|2016-03-01|2016-02-29|       null| 2016-03-06|2016-03-06|       1|\n",
      "|INC0000060|        Closed| false|                 0|           0|            3|    true|Caller 4491|Opened by  180|29/2/2016 06:38| Created by 81|29/2/2016 06:42|Updated by 908|7/3/2016 13:00|       Phone|Location 204| Category 9| Subcategory 97|Symptom 450|      ?|2 - Medium|2 - Medium|3 - Moderate|        Group 25|Resolver 125|     true|                  false|Do Not Notify|            ?|  ?|     ?|        ?|     code 3|Resolved by 113| 2/3/2016 12:06|7/3/2016 13:00|2016-03-02 12:06:00|2016-02-29 06:38:00|2016-02-29 06:42:00|2016-03-07 13:00:00|2016-03-07 13:00:00|2016-03-02|2016-02-29| 2016-02-29| 2016-03-07|2016-03-07|       2|\n",
      "|INC0000062|        Closed| false|                 1|           0|            7|   false|Caller 3765|Opened by  180|29/2/2016 06:58| Created by 81|29/2/2016 07:26|Updated by 908|5/3/2016 16:00|       Phone| Location 93|Category 53|Subcategory 168|Symptom 232|      ?|  1 - High|2 - Medium|    2 - High|        Group 23|           ?|     true|                  false|Do Not Notify|            ?|  ?|     ?|        ?|     code 7| Resolved by 62|29/2/2016 15:51|5/3/2016 16:00|2016-02-29 15:51:00|2016-02-29 06:58:00|2016-02-29 07:26:00|2016-03-05 16:00:00|2016-03-05 16:00:00|2016-02-29|2016-02-29| 2016-02-29| 2016-03-05|2016-03-05|       0|\n",
      "+----------+--------------+------+------------------+------------+-------------+--------+-----------+--------------+---------------+--------------+---------------+--------------+--------------+------------+------------+-----------+---------------+-----------+-------+----------+----------+------------+----------------+------------+---------+-----------------------+-------------+-------------+---+------+---------+-----------+---------------+---------------+--------------+-------------------+-------------------+-------------------+-------------------+-------------------+----------+----------+-----------+-----------+----------+--------+\n",
      "only showing top 5 rows\n",
      "\n"
     ]
    }
   ],
   "source": [
    "df = spark.sql(\"select * from incidents\")\n",
    "df.show(5)"
   ]
  },
  {
   "cell_type": "markdown",
   "metadata": {},
   "source": [
    "The data set has multiple states(New, Active, Awaiting user info, Resolved, Closed etc. ) of an incident. With the help  of the below command, we are just filtering one record per incident, that has the truly closed state of the incident. "
   ]
  },
  {
   "cell_type": "code",
   "execution_count": 5,
   "metadata": {},
   "outputs": [],
   "source": [
    "df_closed_incidents=df.filter(\"incident_state=='Closed'\").\\\n",
    "    sort(\"sys_mod_count\",ascending=False).\\\n",
    "    dropDuplicates([\"number\"])"
   ]
  },
  {
   "cell_type": "code",
   "execution_count": 6,
   "metadata": {},
   "outputs": [
    {
     "name": "stderr",
     "output_type": "stream",
     "text": [
      "[Stage 6:>                                                          (0 + 3) / 3]\r"
     ]
    },
    {
     "name": "stdout",
     "output_type": "stream",
     "text": [
      "+----------+--------------+------+------------------+------------+-------------+--------+-----------+--------------+---------------+--------------+---------------+--------------+---------------+------------+------------+-----------+---------------+-----------+-------+----------+----------+------------+----------------+------------+---------+-----------------------+-------------+-------------+----------+------+---------+-----------+---------------+---------------+---------------+-------------------+-------------------+-------------------+-------------------+-------------------+----------+----------+-----------+-----------+----------+--------+\n",
      "|    number|incident_state|active|reassignment_count|reopen_count|sys_mod_count|made_sla|  caller_id|     opened_by|      opened_at|sys_created_by| sys_created_at|sys_updated_by| sys_updated_at|contact_type|    location|   category|    subcategory|  u_symptom|cmdb_ci|    impact|   urgency|    priority|assignment_group| assigned_to|knowledge|u_priority_confirmation|       notify|   problem_id|       rfc|vendor|caused_by|closed_code|    resolved_by|    resolved_at|      closed_at|        resolved_ts|          opened_ts|     sys_created_ts|     sys_updated_ts|          closed_ts|  resolved|    opened|sys_created|sys_updated|    closed|duration|\n",
      "+----------+--------------+------+------------------+------------+-------------+--------+-----------+--------------+---------------+--------------+---------------+--------------+---------------+------------+------------+-----------+---------------+-----------+-------+----------+----------+------------+----------------+------------+---------+-----------------------+-------------+-------------+----------+------+---------+-----------+---------------+---------------+---------------+-------------------+-------------------+-------------------+-------------------+-------------------+----------+----------+-----------+-----------+----------+--------+\n",
      "|INC0000045|        Closed| false|                 0|           0|            4|    true|Caller 2403|  Opened by  8|29/2/2016 01:16|  Created by 6|29/2/2016 01:23|Updated by 908| 5/3/2016 12:00|       Phone|Location 143|Category 55|Subcategory 170| Symptom 72|      ?|2 - Medium|2 - Medium|3 - Moderate|        Group 56|           ?|     true|                  false|Do Not Notify|            ?|         ?|     ?|        ?|     code 5|Resolved by 149|29/2/2016 11:29| 5/3/2016 12:00|2016-02-29 11:29:00|2016-02-29 01:16:00|2016-02-29 01:23:00|2016-03-05 12:00:00|2016-03-05 12:00:00|2016-02-29|2016-02-29| 2016-02-29| 2016-03-05|2016-03-05|       0|\n",
      "|INC0000062|        Closed| false|                 1|           0|            7|   false|Caller 3765|Opened by  180|29/2/2016 06:58| Created by 81|29/2/2016 07:26|Updated by 908| 5/3/2016 16:00|       Phone| Location 93|Category 53|Subcategory 168|Symptom 232|      ?|  1 - High|2 - Medium|    2 - High|        Group 23|           ?|     true|                  false|Do Not Notify|            ?|         ?|     ?|        ?|     code 7| Resolved by 62|29/2/2016 15:51| 5/3/2016 16:00|2016-02-29 15:51:00|2016-02-29 06:58:00|2016-02-29 07:26:00|2016-03-05 16:00:00|2016-03-05 16:00:00|2016-02-29|2016-02-29| 2016-02-29| 2016-03-05|2016-03-05|       0|\n",
      "|INC0000064|        Closed| false|                 1|           0|            8|    true|Caller 2838|Opened by  131|29/2/2016 07:10| Created by 62|29/2/2016 07:14|Updated by 908| 8/3/2016 17:00|       Phone|Location 143|Category 53|Subcategory 168|Symptom 580|      ?|2 - Medium|2 - Medium|3 - Moderate|        Group 28| Resolver 78|     true|                  false|Do Not Notify|            ?|         ?|     ?|        ?|     code 6| Resolved by 71| 3/3/2016 16:00| 8/3/2016 17:00|2016-03-03 16:00:00|2016-02-29 07:10:00|2016-02-29 07:14:00|2016-03-08 17:00:00|2016-03-08 17:00:00|2016-03-03|2016-02-29| 2016-02-29| 2016-03-08|2016-03-08|       3|\n",
      "|INC0000066|        Closed| false|                 1|           0|            3|    true|Caller 3796| Opened by  24|29/2/2016 08:03| Created by 13|29/2/2016 08:18|Updated by 908| 7/3/2016 15:00|       Phone|Location 161|Category 55|Subcategory 185|          ?|      ?|2 - Medium|2 - Medium|3 - Moderate|        Group 54|           ?|     true|                  false|Do Not Notify|            ?|         ?|     ?|        ?|     code 5|Resolved by 208| 2/3/2016 14:37| 7/3/2016 15:00|2016-03-02 14:37:00|2016-02-29 08:03:00|2016-02-29 08:18:00|2016-03-07 15:00:00|2016-03-07 15:00:00|2016-03-02|2016-02-29| 2016-02-29| 2016-03-07|2016-03-07|       2|\n",
      "|INC0000079|        Closed| false|                 1|           0|            4|    true|Caller 2471|Opened by  180|29/2/2016 08:32|             ?|              ?|Updated by 908| 5/3/2016 12:00|       Phone|Location 204|Category 55|Subcategory 170|Symptom 470|      ?|2 - Medium|2 - Medium|3 - Moderate|        Group 65|Resolver 180|     true|                  false|Do Not Notify|            ?|         ?|     ?|        ?|     code 6|Resolved by 163|29/2/2016 11:20| 5/3/2016 12:00|2016-02-29 11:20:00|2016-02-29 08:32:00|               null|2016-03-05 12:00:00|2016-03-05 12:00:00|2016-02-29|2016-02-29|       null| 2016-03-05|2016-03-05|       0|\n",
      "|INC0000083|        Closed| false|                 1|           0|            4|    true|Caller 4866|Opened by  131|29/2/2016 08:39| Created by 62|29/2/2016 08:56|Updated by 908| 5/3/2016 17:00|       Phone| Location 93|Category 24|Subcategory 164|Symptom 583|      ?|   3 - Low|   3 - Low|     4 - Low|        Group 23|           ?|     true|                  false|Do Not Notify|Problem ID  2|         ?|     ?|        ?|     code 7| Resolved by 62|29/2/2016 16:05| 5/3/2016 17:00|2016-02-29 16:05:00|2016-02-29 08:39:00|2016-02-29 08:56:00|2016-03-05 17:00:00|2016-03-05 17:00:00|2016-02-29|2016-02-29| 2016-02-29| 2016-03-05|2016-03-05|       0|\n",
      "|INC0000084|        Closed| false|                 0|           0|           19|   false|Caller 3038|Opened by  433|29/2/2016 08:39|             ?|              ?|Updated by 908|17/4/2016 15:07|       Phone|Location 204|Category 45|Subcategory 220|Symptom 253|      ?|   3 - Low|   3 - Low|     4 - Low|        Group 66|Resolver 175|     true|                   true|Do Not Notify|            ?|CHG0000647|     ?|        ?|     code 6|Resolved by 158|12/4/2016 14:46|17/4/2016 15:07|2016-04-12 14:46:00|2016-02-29 08:39:00|               null|2016-04-17 15:07:00|2016-04-17 15:07:00|2016-04-12|2016-02-29|       null| 2016-04-17|2016-04-17|      43|\n",
      "|INC0000093|        Closed| false|                 0|           0|            1|    true|Caller 3545|Opened by  131|29/2/2016 08:56|             ?|              ?|Updated by 908| 5/3/2016 10:00|       Phone| Location 93|Category 61|Subcategory 164|Symptom 580|      ?|2 - Medium|2 - Medium|3 - Moderate|        Group 70|           ?|     true|                  false|Do Not Notify|            ?|         ?|     ?|        ?|     code 7| Resolved by 66|              ?| 5/3/2016 10:00|               null|2016-02-29 08:56:00|               null|2016-03-05 10:00:00|2016-03-05 10:00:00|      null|2016-02-29|       null| 2016-03-05|2016-03-05|    null|\n",
      "|INC0000111|        Closed| false|                 0|           0|            3|    true|Caller 4325|Opened by  180|29/2/2016 09:14| Created by 81|29/2/2016 09:19|Updated by 908| 7/3/2016 15:00|       Phone| Location 93|Category 53|Subcategory 130|Symptom 470|      ?|2 - Medium|2 - Medium|3 - Moderate|        Group 54|           ?|     true|                  false|Do Not Notify|Problem ID  2|         ?|     ?|        ?|     code 7|Resolved by 208| 2/3/2016 14:56| 7/3/2016 15:00|2016-03-02 14:56:00|2016-02-29 09:14:00|2016-02-29 09:19:00|2016-03-07 15:00:00|2016-03-07 15:00:00|2016-03-02|2016-02-29| 2016-02-29| 2016-03-07|2016-03-07|       2|\n",
      "|INC0000125|        Closed| false|                 1|           0|            6|    true| Caller 154|Opened by  131|29/2/2016 09:31| Created by 62|29/2/2016 09:35|Updated by 908|  6/3/2016 9:00|       Phone|Location 108| Category 9|Subcategory 164|Symptom 607|      ?|2 - Medium|2 - Medium|3 - Moderate|        Group 27|Resolver 170|     true|                   true|Do Not Notify|Problem ID  2|         ?|     ?|        ?|    code 11|Resolved by 153|  1/3/2016 8:32|  6/3/2016 9:00|2016-03-01 08:32:00|2016-02-29 09:31:00|2016-02-29 09:35:00|2016-03-06 09:00:00|2016-03-06 09:00:00|2016-03-01|2016-02-29| 2016-02-29| 2016-03-06|2016-03-06|       1|\n",
      "|INC0000126|        Closed| false|                 0|           0|            3|    true|Caller 3754|Opened by  180|29/2/2016 09:31| Created by 81|29/2/2016 09:42|Updated by 908| 7/3/2016 15:00|       Phone|Location 142|Category 53|Subcategory 127|Symptom 470|      ?|2 - Medium|2 - Medium|3 - Moderate|        Group 54|           ?|     true|                  false|Do Not Notify|Problem ID  2|         ?|     ?|        ?|     code 7|Resolved by 208| 2/3/2016 14:57| 7/3/2016 15:00|2016-03-02 14:57:00|2016-02-29 09:31:00|2016-02-29 09:42:00|2016-03-07 15:00:00|2016-03-07 15:00:00|2016-03-02|2016-02-29| 2016-02-29| 2016-03-07|2016-03-07|       2|\n",
      "|INC0000130|        Closed| false|                 1|           0|            5|    true| Caller 314| Opened by  62|29/2/2016 09:41| Created by 81|29/2/2016 07:17|Updated by 908| 8/3/2016 11:00|       Phone|Location 204|Category 61|Subcategory 164|Symptom 470|      ?|2 - Medium|2 - Medium|3 - Moderate|        Group 73|Resolver 198|     true|                  false|Do Not Notify|            ?|         ?|     ?|        ?|     code 6|Resolved by 180| 3/3/2016 10:16| 8/3/2016 11:00|2016-03-03 10:16:00|2016-02-29 09:41:00|2016-02-29 07:17:00|2016-03-08 11:00:00|2016-03-08 11:00:00|2016-03-03|2016-02-29| 2016-02-29| 2016-03-08|2016-03-08|       3|\n",
      "|INC0000132|        Closed| false|                 2|           0|            5|    true|Caller 3957|Opened by  131|29/2/2016 09:42| Created by 62|29/2/2016 09:50|Updated by 908| 8/3/2016 16:00|       Phone|Location 204| Category 9|Subcategory 164|Symptom 580|      ?|2 - Medium|2 - Medium|3 - Moderate|        Group 23|Resolver 135|     true|                  false|Do Not Notify|            ?|         ?|     ?|        ?|     code 6|Resolved by 121| 3/3/2016 15:18| 8/3/2016 16:00|2016-03-03 15:18:00|2016-02-29 09:42:00|2016-02-29 09:50:00|2016-03-08 16:00:00|2016-03-08 16:00:00|2016-03-03|2016-02-29| 2016-02-29| 2016-03-08|2016-03-08|       3|\n",
      "|INC0000137|        Closed| false|                 0|           0|            3|    true| Caller 899| Opened by  24|29/2/2016 09:48| Created by 13|29/2/2016 08:18|Updated by 908| 5/3/2016 12:00|       Phone| Location 51|Category 32|  Subcategory 9|Symptom 470|      ?|2 - Medium|2 - Medium|3 - Moderate|        Group 70|           ?|     true|                  false|Do Not Notify|            ?|         ?|     ?|        ?|     code 6| Resolved by 15|29/2/2016 11:03| 5/3/2016 12:00|2016-02-29 11:03:00|2016-02-29 09:48:00|2016-02-29 08:18:00|2016-03-05 12:00:00|2016-03-05 12:00:00|2016-02-29|2016-02-29| 2016-02-29| 2016-03-05|2016-03-05|       0|\n",
      "|INC0000147|        Closed| false|                 1|           0|            9|   false| Caller 926| Opened by  40|29/2/2016 10:00| Created by 20|29/2/2016 10:08|Updated by 908|19/3/2016 10:00|       Phone|Location 179|Category 53|Subcategory 271|Symptom 470|      ?|2 - Medium|2 - Medium|3 - Moderate|        Group 25|Resolver 125|     true|                  false|Do Not Notify|Problem ID  2|         ?|     ?|        ?|     code 5|Resolved by 113|14/3/2016 09:49|19/3/2016 10:00|2016-03-14 09:49:00|2016-02-29 10:00:00|2016-02-29 10:08:00|2016-03-19 10:00:00|2016-03-19 10:00:00|2016-03-14|2016-02-29| 2016-02-29| 2016-03-19|2016-03-19|      14|\n",
      "|INC0000148|        Closed| false|                 0|           0|            3|    true|Caller 4279|Opened by  501|29/2/2016 10:00|Created by 216|29/2/2016 10:04|Updated by 908| 7/3/2016 16:00|       Phone| Location 93|Category 53|Subcategory 127|Symptom 470|      ?|2 - Medium|2 - Medium|3 - Moderate|        Group 54|           ?|     true|                  false|Do Not Notify|Problem ID  2|         ?|     ?|        ?|     code 1|Resolved by 208| 2/3/2016 15:00| 7/3/2016 16:00|2016-03-02 15:00:00|2016-02-29 10:00:00|2016-02-29 10:04:00|2016-03-07 16:00:00|2016-03-07 16:00:00|2016-03-02|2016-02-29| 2016-02-29| 2016-03-07|2016-03-07|       2|\n",
      "|INC0000149|        Closed| false|                 0|           0|            3|    true|Caller 4331| Opened by  62|29/2/2016 10:01| Created by 33|29/2/2016 10:06|Updated by 908| 7/3/2016 16:00|       Phone|Location 142|Category 53|Subcategory 127|Symptom 470|      ?|2 - Medium|2 - Medium|3 - Moderate|        Group 54|           ?|     true|                  false|Do Not Notify|Problem ID  2|         ?|     ?|        ?|     code 7|Resolved by 208| 2/3/2016 15:01| 7/3/2016 16:00|2016-03-02 15:01:00|2016-02-29 10:01:00|2016-02-29 10:06:00|2016-03-07 16:00:00|2016-03-07 16:00:00|2016-03-02|2016-02-29| 2016-02-29| 2016-03-07|2016-03-07|       2|\n",
      "|INC0000152|        Closed| false|                 0|           0|            4|    true|Caller 1913|Opened by  180|29/2/2016 10:08| Created by 81|29/2/2016 10:16|Updated by 908| 8/3/2016 10:00|       Phone| Location 51|Category 53|Subcategory 168|  Symptom 4|      ?|2 - Medium|2 - Medium|3 - Moderate|        Group 30|Resolver 201|     true|                   true|Do Not Notify|            ?|         ?|     ?|        ?|     code 6|Resolved by 183|  3/3/2016 9:23| 8/3/2016 10:00|2016-03-03 09:23:00|2016-02-29 10:08:00|2016-02-29 10:16:00|2016-03-08 10:00:00|2016-03-08 10:00:00|2016-03-03|2016-02-29| 2016-02-29| 2016-03-08|2016-03-08|       3|\n",
      "|INC0000156|        Closed| false|                 0|           0|            3|    true|Caller 2811|Opened by  501|29/2/2016 10:14|Created by 216|29/2/2016 10:18|Updated by 908| 7/3/2016 16:00|       Phone| Location 93|Category 53|Subcategory 127|Symptom 470|      ?|2 - Medium|2 - Medium|3 - Moderate|        Group 54|           ?|     true|                  false|Do Not Notify|Problem ID  2|         ?|     ?|        ?|     code 7|Resolved by 208| 2/3/2016 15:02| 7/3/2016 16:00|2016-03-02 15:02:00|2016-02-29 10:14:00|2016-02-29 10:18:00|2016-03-07 16:00:00|2016-03-07 16:00:00|2016-03-02|2016-02-29| 2016-02-29| 2016-03-07|2016-03-07|       2|\n",
      "|INC0000159|        Closed| false|                 1|           0|            6|    true|Caller 3923|Opened by  180|29/2/2016 10:17| Created by 81|29/2/2016 10:22|Updated by 908| 7/3/2016 11:00|       Phone|Location 143|Category 24|Subcategory 164|Symptom 571|      ?|2 - Medium|2 - Medium|3 - Moderate|        Group 28|           ?|     true|                  false|Do Not Notify|            ?|         ?|     ?|        ?|     code 6|Resolved by 215| 2/3/2016 10:09| 7/3/2016 11:00|2016-03-02 10:09:00|2016-02-29 10:17:00|2016-02-29 10:22:00|2016-03-07 11:00:00|2016-03-07 11:00:00|2016-03-02|2016-02-29| 2016-02-29| 2016-03-07|2016-03-07|       2|\n",
      "+----------+--------------+------+------------------+------------+-------------+--------+-----------+--------------+---------------+--------------+---------------+--------------+---------------+------------+------------+-----------+---------------+-----------+-------+----------+----------+------------+----------------+------------+---------+-----------------------+-------------+-------------+----------+------+---------+-----------+---------------+---------------+---------------+-------------------+-------------------+-------------------+-------------------+-------------------+----------+----------+-----------+-----------+----------+--------+\n",
      "only showing top 20 rows\n",
      "\n"
     ]
    },
    {
     "name": "stderr",
     "output_type": "stream",
     "text": [
      "                                                                                \r"
     ]
    }
   ],
   "source": [
    "df_closed_incidents.show()"
   ]
  },
  {
   "attachments": {},
   "cell_type": "markdown",
   "metadata": {},
   "source": [
    "Let's select a the subset of columns we are interested in for our analysis."
   ]
  },
  {
   "cell_type": "code",
   "execution_count": 7,
   "metadata": {},
   "outputs": [],
   "source": [
    "df_closed_incidents =df_closed_incidents.select([\n",
    "    'reassignment_count',\n",
    "    'reopen_count',\n",
    "    'sys_mod_count',\n",
    "    'opened_by',\n",
    "    'location',\n",
    "    'category',\n",
    "    'subcategory',\n",
    "    'priority',\n",
    "    'assignment_group',\n",
    "    'assigned_to',\n",
    "    'knowledge',\n",
    "    'resolved_by',\n",
    "    'duration'\n",
    "    ]\n",
    ")"
   ]
  },
  {
   "cell_type": "code",
   "execution_count": 8,
   "metadata": {},
   "outputs": [
    {
     "data": {
      "text/plain": [
       "24918"
      ]
     },
     "execution_count": 8,
     "metadata": {},
     "output_type": "execute_result"
    }
   ],
   "source": [
    "df_closed_incidents.count()"
   ]
  },
  {
   "cell_type": "code",
   "execution_count": 9,
   "metadata": {},
   "outputs": [],
   "source": [
    "df_closed_incidents = df_closed_incidents.dropna()"
   ]
  },
  {
   "cell_type": "code",
   "execution_count": 10,
   "metadata": {},
   "outputs": [
    {
     "data": {
      "text/plain": [
       "23362"
      ]
     },
     "execution_count": 10,
     "metadata": {},
     "output_type": "execute_result"
    }
   ],
   "source": [
    "df_closed_incidents.count()"
   ]
  },
  {
   "cell_type": "code",
   "execution_count": 11,
   "metadata": {},
   "outputs": [
    {
     "name": "stdout",
     "output_type": "stream",
     "text": [
      "+------------------+------------+-------------+--------------+------------+-----------+---------------+------------+----------------+------------+---------+---------------+--------+\n",
      "|reassignment_count|reopen_count|sys_mod_count|     opened_by|    location|   category|    subcategory|    priority|assignment_group| assigned_to|knowledge|    resolved_by|duration|\n",
      "+------------------+------------+-------------+--------------+------------+-----------+---------------+------------+----------------+------------+---------+---------------+--------+\n",
      "|                 0|           0|            4|  Opened by  8|Location 143|Category 55|Subcategory 170|3 - Moderate|        Group 56|           ?|     true|Resolved by 149|       0|\n",
      "|                 1|           0|            8|Opened by  397|Location 165|Category 40|Subcategory 215|3 - Moderate|        Group 24| Resolver 89|     true| Resolved by 81|       1|\n",
      "|                 0|           0|            6|  Opened by  8|Location 204|Category 20|Subcategory 125|3 - Moderate|        Group 70|  Resolver 6|     true|  Resolved by 5|       1|\n",
      "|                 0|           0|            3|Opened by  180|Location 204| Category 9| Subcategory 97|3 - Moderate|        Group 25|Resolver 125|     true|Resolved by 113|       2|\n",
      "|                 1|           0|            7|Opened by  180| Location 93|Category 53|Subcategory 168|    2 - High|        Group 23|           ?|     true| Resolved by 62|       0|\n",
      "|                 1|           0|            7|Opened by  180| Location 93|Category 20|Subcategory 125|3 - Moderate|        Group 23|           ?|     true| Resolved by 62|       0|\n",
      "|                 1|           0|            8|Opened by  131|Location 143|Category 53|Subcategory 168|3 - Moderate|        Group 28| Resolver 78|     true| Resolved by 71|       3|\n",
      "|                 6|           0|           13|Opened by  131|Location 108|Category 45| Subcategory 94|3 - Moderate|        Group 33|Resolver 216|     true|Resolved by 197|       2|\n",
      "|                 1|           0|            3| Opened by  24|Location 161|Category 55|Subcategory 185|3 - Moderate|        Group 54|           ?|     true|Resolved by 208|       2|\n",
      "|                 1|           0|           10|Opened by  180|Location 143| Category 9|Subcategory 110|3 - Moderate|        Group 28|Resolver 236|     true|Resolved by 215|       2|\n",
      "|                 1|           0|            9|Opened by  131| Location 46| Category 9|Subcategory 164|3 - Moderate|        Group 29| Resolver 31|     true| Resolved by 30|       8|\n",
      "|                 0|           0|            7|Opened by  180|Location 161| Category 9|Subcategory 164|3 - Moderate|        Group 24|Resolver 249|     true|Resolved by 227|       1|\n",
      "|                 1|           0|            6| Opened by  40| Location 42|Category 53|Subcategory 271|3 - Moderate|        Group 54|           ?|     true|Resolved by 208|       1|\n",
      "|                 0|           0|           19|Opened by  433|Location 204|Category 45|Subcategory 220|3 - Moderate|        Group 66|Resolver 193|     true|Resolved by 158|      42|\n",
      "|                 0|           0|            2|Opened by  180| Location 93|Category 42|Subcategory 224|3 - Moderate|        Group 23|           ?|     true| Resolved by 62|       0|\n",
      "|                 0|           0|            5|Opened by  180|Location 108|Category 32|  Subcategory 9|3 - Moderate|        Group 70|           ?|     true| Resolved by 85|       0|\n",
      "|                 1|           0|            4|Opened by  180|Location 204|Category 55|Subcategory 170|3 - Moderate|        Group 65|Resolver 180|     true|Resolved by 163|       0|\n",
      "|                 0|           0|            7| Opened by  24|Location 229|Category 32|  Subcategory 9|3 - Moderate|        Group 70|           ?|     true| Resolved by 15|       2|\n",
      "|                 1|           0|            4|Opened by  131| Location 93|Category 24|Subcategory 164|     4 - Low|        Group 23|           ?|     true| Resolved by 62|       0|\n",
      "|                 0|           0|           19|Opened by  433|Location 204|Category 45|Subcategory 220|     4 - Low|        Group 66|Resolver 175|     true|Resolved by 158|      43|\n",
      "+------------------+------------+-------------+--------------+------------+-----------+---------------+------------+----------------+------------+---------+---------------+--------+\n",
      "only showing top 20 rows\n",
      "\n"
     ]
    }
   ],
   "source": [
    "df_closed_incidents.show()"
   ]
  },
  {
   "attachments": {},
   "cell_type": "markdown",
   "metadata": {},
   "source": [
    "## Model Training"
   ]
  },
  {
   "attachments": {},
   "cell_type": "markdown",
   "metadata": {},
   "source": [
    "We earlier created the incident table with 'inferSchema' set to true. This means that the schema of the table is inferred from the data. The knowledge column was properly inferred as a boolean, however, in the pipeline below with use StringIndexer on this column - and therefore, need to convert this column data type to a string."
   ]
  },
  {
   "cell_type": "code",
   "execution_count": 12,
   "metadata": {},
   "outputs": [
    {
     "name": "stdout",
     "output_type": "stream",
     "text": [
      "root\n",
      " |-- reassignment_count: integer (nullable = true)\n",
      " |-- reopen_count: integer (nullable = true)\n",
      " |-- sys_mod_count: integer (nullable = true)\n",
      " |-- opened_by: string (nullable = true)\n",
      " |-- location: string (nullable = true)\n",
      " |-- category: string (nullable = true)\n",
      " |-- subcategory: string (nullable = true)\n",
      " |-- priority: string (nullable = true)\n",
      " |-- assignment_group: string (nullable = true)\n",
      " |-- assigned_to: string (nullable = true)\n",
      " |-- knowledge: boolean (nullable = true)\n",
      " |-- resolved_by: string (nullable = true)\n",
      " |-- duration: integer (nullable = true)\n",
      "\n"
     ]
    }
   ],
   "source": [
    "df_closed_incidents.printSchema()"
   ]
  },
  {
   "cell_type": "code",
   "execution_count": 13,
   "metadata": {},
   "outputs": [],
   "source": [
    "from pyspark.sql.types import IntegerType,BooleanType,DateType, StringType\n",
    "\n",
    "df_closed_incidents = df_closed_incidents.withColumn(\"knowledge\",df_closed_incidents.knowledge.cast(StringType()))"
   ]
  },
  {
   "cell_type": "code",
   "execution_count": 14,
   "metadata": {},
   "outputs": [
    {
     "name": "stdout",
     "output_type": "stream",
     "text": [
      "root\n",
      " |-- reassignment_count: integer (nullable = true)\n",
      " |-- reopen_count: integer (nullable = true)\n",
      " |-- sys_mod_count: integer (nullable = true)\n",
      " |-- opened_by: string (nullable = true)\n",
      " |-- location: string (nullable = true)\n",
      " |-- category: string (nullable = true)\n",
      " |-- subcategory: string (nullable = true)\n",
      " |-- priority: string (nullable = true)\n",
      " |-- assignment_group: string (nullable = true)\n",
      " |-- assigned_to: string (nullable = true)\n",
      " |-- knowledge: string (nullable = true)\n",
      " |-- resolved_by: string (nullable = true)\n",
      " |-- duration: integer (nullable = true)\n",
      "\n"
     ]
    }
   ],
   "source": [
    "df_closed_incidents.printSchema()"
   ]
  },
  {
   "attachments": {},
   "cell_type": "markdown",
   "metadata": {},
   "source": [
    "Now that we have our data ready, let's do a train test split (70/30)."
   ]
  },
  {
   "cell_type": "code",
   "execution_count": 15,
   "metadata": {},
   "outputs": [],
   "source": [
    "train_data,test_data=df_closed_incidents.randomSplit([0.7,0.3])"
   ]
  },
  {
   "cell_type": "code",
   "execution_count": 16,
   "metadata": {},
   "outputs": [],
   "source": [
    "from pyspark.ml.feature import StringIndexer\n",
    "# Use StringIndexer to convert the categorical columns to hold numerical data\n",
    " \n",
    "opened_by_indexer = StringIndexer(inputCol='opened_by',outputCol='opened_by_index',handleInvalid='keep')\n",
    "location_indexer = StringIndexer(inputCol='location',outputCol='location_index',handleInvalid='keep')\n",
    "category_indexer = StringIndexer(inputCol='category',outputCol='category_index',handleInvalid='keep')\n",
    "subcategory_indexer = StringIndexer(inputCol='subcategory',outputCol='subcategory_index',handleInvalid='keep')\n",
    "priority_indexer = StringIndexer(inputCol='priority',outputCol='priority_index',handleInvalid='keep')\n",
    "assignment_group_indexer = StringIndexer(inputCol='assignment_group',outputCol='assignment_group_index',handleInvalid='keep')\n",
    "assigned_to_indexer = StringIndexer(inputCol='assigned_to',outputCol='assigned_to_index',handleInvalid='keep')\n",
    "knowledge_indexer = StringIndexer(inputCol='knowledge',outputCol='knowledge_index',handleInvalid='keep')\n",
    "resolved_by_indexer = StringIndexer(inputCol='resolved_by',outputCol='resolved_by_index',handleInvalid='keep')"
   ]
  },
  {
   "cell_type": "code",
   "execution_count": 17,
   "metadata": {},
   "outputs": [],
   "source": [
    "from pyspark.ml.feature import VectorAssembler\n",
    "# Vector assembler is used to create a vector of input features\n",
    " \n",
    "assembler = VectorAssembler(\n",
    "    inputCols=[\n",
    "        \"opened_by_index\",\n",
    "        'location_index',\n",
    "        'category_index',\n",
    "        'subcategory_index',\n",
    "        'priority_index',\n",
    "        'assignment_group_index',\n",
    "        'assigned_to_index',\n",
    "        'knowledge_index',\n",
    "        'resolved_by_index'\n",
    "    ],\n",
    "    outputCol=\"features\"\n",
    ")"
   ]
  },
  {
   "cell_type": "code",
   "execution_count": 18,
   "metadata": {},
   "outputs": [],
   "source": [
    "from pyspark.ml import Pipeline\n",
    "\n",
    "# Pipeline is used to pass the data through indexer and assembler simultaneously. Also, it helps to pre-rocess the test data\n",
    "# in the same way as that of the train data\n",
    "# https://spark.apache.org/docs/latest/ml-pipeline.html\n",
    " \n",
    "pipe = Pipeline(stages=[\n",
    "    opened_by_indexer,\n",
    "    location_indexer,\n",
    "    category_indexer,\n",
    "    subcategory_indexer,\n",
    "    priority_indexer,\n",
    "    assignment_group_indexer,\n",
    "    assigned_to_indexer,\n",
    "    knowledge_indexer,\n",
    "    resolved_by_indexer,\n",
    "    assembler\n",
    "    ]\n",
    ")"
   ]
  },
  {
   "cell_type": "code",
   "execution_count": 19,
   "metadata": {},
   "outputs": [],
   "source": [
    "fitted_pipe=pipe.fit(train_data)"
   ]
  },
  {
   "cell_type": "code",
   "execution_count": 20,
   "metadata": {},
   "outputs": [
    {
     "name": "stdout",
     "output_type": "stream",
     "text": [
      "+------------------+------------+-------------+--------------+------------+-----------+---------------+------------+----------------+------------+---------+--------------+--------+---------------+--------------+--------------+-----------------+--------------+----------------------+-----------------+---------------+-----------------+--------------------+\n",
      "|reassignment_count|reopen_count|sys_mod_count|     opened_by|    location|   category|    subcategory|    priority|assignment_group| assigned_to|knowledge|   resolved_by|duration|opened_by_index|location_index|category_index|subcategory_index|priority_index|assignment_group_index|assigned_to_index|knowledge_index|resolved_by_index|            features|\n",
      "+------------------+------------+-------------+--------------+------------+-----------+---------------+------------+----------------+------------+---------+--------------+--------+---------------+--------------+--------------+-----------------+--------------+----------------------+-----------------+---------------+-----------------+--------------------+\n",
      "|                 0|           0|            1|             ?|Location 143|Category 23|Subcategory 174|3 - Moderate|        Group 20| Resolver 33|    false|             ?|       0|            9.0|           2.0|           7.0|              0.0|           0.0|                  10.0|              8.0|            0.0|            124.0|[9.0,2.0,7.0,0.0,...|\n",
      "|                 0|           0|            1|             ?|Location 143|Category 32|Subcategory 174|3 - Moderate|               ?|Resolver 127|    false|             ?|       0|            9.0|           2.0|           4.0|              0.0|           0.0|                   1.0|             52.0|            0.0|            124.0|[9.0,2.0,4.0,0.0,...|\n",
      "|                 0|           0|            1|             ?| Location 15|Category 32|Subcategory 174|3 - Moderate|               ?| Resolver 17|    false|             ?|       0|            9.0|          22.0|           4.0|              0.0|           0.0|                   1.0|              1.0|            0.0|            124.0|[9.0,22.0,4.0,0.0...|\n",
      "|                 0|           0|            1|             ?|Location 204|Category 32|Subcategory 174|3 - Moderate|               ?| Resolver 94|    false|             ?|       0|            9.0|           0.0|           4.0|              0.0|           0.0|                   1.0|              6.0|            0.0|            124.0|[9.0,0.0,4.0,0.0,...|\n",
      "|                 0|           0|            1|             ?| Location 33|Category 53|Subcategory 174|3 - Moderate|               ?| Resolver 17|    false|             ?|       0|            9.0|          26.0|           2.0|              0.0|           0.0|                   1.0|              1.0|            0.0|            124.0|[9.0,26.0,2.0,0.0...|\n",
      "|                 0|           0|            1|             ?| Location 51|Category 32|Subcategory 174|3 - Moderate|               ?|Resolver 127|    false|             ?|       0|            9.0|           5.0|           4.0|              0.0|           0.0|                   1.0|             52.0|            0.0|            124.0|[9.0,5.0,4.0,0.0,...|\n",
      "|                 0|           0|            1|             ?| Location 51|Category 32|Subcategory 174|3 - Moderate|               ?| Resolver 94|    false|             ?|       0|            9.0|           5.0|           4.0|              0.0|           0.0|                   1.0|              6.0|            0.0|            124.0|[9.0,5.0,4.0,0.0,...|\n",
      "|                 0|           0|            1|             ?| Location 93|Category 32|Subcategory 174|3 - Moderate|               ?|Resolver 128|    false|             ?|       0|            9.0|           4.0|           4.0|              0.0|           0.0|                   1.0|            130.0|            0.0|            124.0|[9.0,4.0,4.0,0.0,...|\n",
      "|                 0|           0|            1|Opened by  108|Location 143|Category 46|Subcategory 223|3 - Moderate|        Group 55| Resolver 56|    false|Resolved by 52|       0|            4.0|           2.0|           3.0|              1.0|           0.0|                  16.0|             25.0|            0.0|             25.0|[4.0,2.0,3.0,1.0,...|\n",
      "|                 0|           0|            1|Opened by  124|Location 143|Category 23|Subcategory 174|3 - Moderate|        Group 20| Resolver 69|    false|Resolved by 62|       0|           33.0|           2.0|           7.0|              0.0|           0.0|                  10.0|              9.0|            0.0|              7.0|[33.0,2.0,7.0,0.0...|\n",
      "|                 0|           0|            1|Opened by  124|Location 143|Category 23|  Subcategory 3|3 - Moderate|        Group 20| Resolver 69|    false|Resolved by 62|       0|           33.0|           2.0|           7.0|             13.0|           0.0|                  10.0|              9.0|            0.0|              7.0|[33.0,2.0,7.0,13....|\n",
      "|                 0|           0|            1|Opened by  124| Location 71|Category 28|Subcategory 174|3 - Moderate|        Group 23| Resolver 69|    false|Resolved by 62|       0|           33.0|          36.0|          15.0|              0.0|           0.0|                   5.0|              9.0|            0.0|              7.0|[33.0,36.0,15.0,0...|\n",
      "|                 0|           0|            1|Opened by  124| Location 93|Category 23|  Subcategory 3|3 - Moderate|        Group 20| Resolver 69|    false|Resolved by 62|       0|           33.0|           4.0|           7.0|             13.0|           0.0|                  10.0|              9.0|            0.0|              7.0|[33.0,4.0,7.0,13....|\n",
      "|                 0|           0|            1|Opened by  124| Location 93|Category 23|  Subcategory 3|3 - Moderate|        Group 20| Resolver 69|    false|Resolved by 62|       0|           33.0|           4.0|           7.0|             13.0|           0.0|                  10.0|              9.0|            0.0|              7.0|[33.0,4.0,7.0,13....|\n",
      "|                 0|           0|            1|Opened by  124| Location 93| Category 9|Subcategory 174|3 - Moderate|        Group 23| Resolver 69|    false|Resolved by 62|       0|           33.0|           4.0|           5.0|              0.0|           0.0|                   5.0|              9.0|            0.0|              7.0|[33.0,4.0,5.0,0.0...|\n",
      "|                 0|           0|            1|Opened by  124| Location 93| Category 9|Subcategory 174|3 - Moderate|        Group 23| Resolver 69|    false|Resolved by 62|       0|           33.0|           4.0|           5.0|              0.0|           0.0|                   5.0|              9.0|            0.0|              7.0|[33.0,4.0,5.0,0.0...|\n",
      "|                 0|           0|            1|Opened by  157|Location 111|Category 37|Subcategory 285|3 - Moderate|        Group 46| Resolver 83|    false|Resolved by 76|       0|           50.0|           9.0|           6.0|             54.0|           0.0|                  28.0|             42.0|            0.0|             41.0|[50.0,9.0,6.0,54....|\n",
      "|                 0|           0|            1|Opened by  168|Location 161|Category 24|Subcategory 174|3 - Moderate|        Group 24| Resolver 89|    false|Resolved by 81|       0|           35.0|           1.0|          11.0|              0.0|           0.0|                   4.0|             36.0|            0.0|             37.0|[35.0,1.0,11.0,0....|\n",
      "|                 0|           0|            1|Opened by  168|Location 161|Category 24|Subcategory 174|3 - Moderate|        Group 24| Resolver 89|    false|Resolved by 81|       0|           35.0|           1.0|          11.0|              0.0|           0.0|                   4.0|             36.0|            0.0|             37.0|[35.0,1.0,11.0,0....|\n",
      "|                 0|           0|            1|Opened by  168|Location 161|Category 24|Subcategory 174|3 - Moderate|        Group 24| Resolver 89|    false|Resolved by 81|       0|           35.0|           1.0|          11.0|              0.0|           0.0|                   4.0|             36.0|            0.0|             37.0|[35.0,1.0,11.0,0....|\n",
      "+------------------+------------+-------------+--------------+------------+-----------+---------------+------------+----------------+------------+---------+--------------+--------+---------------+--------------+--------------+-----------------+--------------+----------------------+-----------------+---------------+-----------------+--------------------+\n",
      "only showing top 20 rows\n",
      "\n"
     ]
    }
   ],
   "source": [
    "train_data=fitted_pipe.transform(train_data)\n",
    "train_data.show()"
   ]
  },
  {
   "cell_type": "code",
   "execution_count": 21,
   "metadata": {},
   "outputs": [
    {
     "name": "stdout",
     "output_type": "stream",
     "text": [
      "+------------------+------------+-------------+--------------+------------+-----------+---------------+------------+----------------+------------+---------+--------------+--------+---------------+--------------+--------------+-----------------+--------------+----------------------+-----------------+---------------+-----------------+--------------------+\n",
      "|reassignment_count|reopen_count|sys_mod_count|     opened_by|    location|   category|    subcategory|    priority|assignment_group| assigned_to|knowledge|   resolved_by|duration|opened_by_index|location_index|category_index|subcategory_index|priority_index|assignment_group_index|assigned_to_index|knowledge_index|resolved_by_index|            features|\n",
      "+------------------+------------+-------------+--------------+------------+-----------+---------------+------------+----------------+------------+---------+--------------+--------+---------------+--------------+--------------+-----------------+--------------+----------------------+-----------------+---------------+-----------------+--------------------+\n",
      "|                 0|           0|            1|             ?|Location 108|Category 43|Subcategory 107|3 - Moderate|        Group 22| Resolver 94|    false|             ?|       0|            9.0|           3.0|          20.0|             41.0|           0.0|                  20.0|              6.0|            0.0|            124.0|[9.0,3.0,20.0,41....|\n",
      "|                 0|           0|            1|             ?|Location 111|Category 32|Subcategory 174|3 - Moderate|               ?|Resolver 127|    false|             ?|       0|            9.0|           9.0|           4.0|              0.0|           0.0|                   1.0|             52.0|            0.0|            124.0|[9.0,9.0,4.0,0.0,...|\n",
      "|                 0|           0|            1|             ?|Location 111|Category 32|Subcategory 174|3 - Moderate|               ?| Resolver 94|    false|             ?|       0|            9.0|           9.0|           4.0|              0.0|           0.0|                   1.0|              6.0|            0.0|            124.0|[9.0,9.0,4.0,0.0,...|\n",
      "|                 0|           0|            1|             ?|Location 143|Category 32|Subcategory 174|3 - Moderate|               ?| Resolver 94|    false|             ?|       0|            9.0|           2.0|           4.0|              0.0|           0.0|                   1.0|              6.0|            0.0|            124.0|[9.0,2.0,4.0,0.0,...|\n",
      "|                 0|           0|            1|             ?|Location 204|Category 23|  Subcategory 3|3 - Moderate|        Group 20| Resolver 94|    false|             ?|       0|            9.0|           0.0|           7.0|             13.0|           0.0|                  10.0|              6.0|            0.0|            124.0|[9.0,0.0,7.0,13.0...|\n",
      "|                 0|           0|            1|             ?|Location 204|Category 32|Subcategory 174|3 - Moderate|               ?|Resolver 127|    false|             ?|       0|            9.0|           0.0|           4.0|              0.0|           0.0|                   1.0|             52.0|            0.0|            124.0|[9.0,0.0,4.0,0.0,...|\n",
      "|                 0|           0|            1|             ?| Location 42|Category 44|Subcategory 174|3 - Moderate|         Group 5| Resolver 17|    false|             ?|       0|            9.0|          17.0|          18.0|              0.0|           0.0|                  31.0|              1.0|            0.0|            124.0|[9.0,17.0,18.0,0....|\n",
      "|                 0|           0|            1|             ?| Location 43|Category 32|Subcategory 174|3 - Moderate|               ?| Resolver 94|    false|             ?|       0|            9.0|           8.0|           4.0|              0.0|           0.0|                   1.0|              6.0|            0.0|            124.0|[9.0,8.0,4.0,0.0,...|\n",
      "|                 0|           0|            1|             ?| Location 51|Category 32|Subcategory 174|3 - Moderate|               ?| Resolver 17|    false|             ?|       0|            9.0|           5.0|           4.0|              0.0|           0.0|                   1.0|              1.0|            0.0|            124.0|[9.0,5.0,4.0,0.0,...|\n",
      "|                 0|           0|            1|Opened by  124| Location 71|Category 28|Subcategory 174|3 - Moderate|        Group 23| Resolver 69|    false|Resolved by 62|       0|           33.0|          36.0|          15.0|              0.0|           0.0|                   5.0|              9.0|            0.0|              7.0|[33.0,36.0,15.0,0...|\n",
      "|                 0|           0|            1|Opened by  124| Location 93|Category 23|  Subcategory 3|3 - Moderate|        Group 20| Resolver 69|    false|Resolved by 62|       0|           33.0|           4.0|           7.0|             13.0|           0.0|                  10.0|              9.0|            0.0|              7.0|[33.0,4.0,7.0,13....|\n",
      "|                 0|           0|            1|Opened by  124| Location 93| Category 9|Subcategory 174|3 - Moderate|        Group 23| Resolver 69|    false|Resolved by 62|       0|           33.0|           4.0|           5.0|              0.0|           0.0|                   5.0|              9.0|            0.0|              7.0|[33.0,4.0,5.0,0.0...|\n",
      "|                 0|           0|            1|Opened by  168|Location 161|Category 24|Subcategory 174|3 - Moderate|        Group 24| Resolver 89|    false|Resolved by 81|       0|           35.0|           1.0|          11.0|              0.0|           0.0|                   4.0|             36.0|            0.0|             37.0|[35.0,1.0,11.0,0....|\n",
      "|                 0|           0|            1|Opened by  168|Location 161|Category 24|Subcategory 174|3 - Moderate|        Group 24| Resolver 89|    false|Resolved by 81|       0|           35.0|           1.0|          11.0|              0.0|           0.0|                   4.0|             36.0|            0.0|             37.0|[35.0,1.0,11.0,0....|\n",
      "|                 0|           0|            1|Opened by  168|Location 161|Category 24|Subcategory 174|3 - Moderate|        Group 24| Resolver 89|    false|Resolved by 81|       0|           35.0|           1.0|          11.0|              0.0|           0.0|                   4.0|             36.0|            0.0|             37.0|[35.0,1.0,11.0,0....|\n",
      "|                 0|           0|            1|Opened by  168|Location 161|Category 24|Subcategory 174|3 - Moderate|        Group 24| Resolver 89|    false|Resolved by 81|       0|           35.0|           1.0|          11.0|              0.0|           0.0|                   4.0|             36.0|            0.0|             37.0|[35.0,1.0,11.0,0....|\n",
      "|                 0|           0|            1|Opened by  168|Location 161|Category 24|Subcategory 174|3 - Moderate|        Group 24| Resolver 89|    false|Resolved by 81|       0|           35.0|           1.0|          11.0|              0.0|           0.0|                   4.0|             36.0|            0.0|             37.0|[35.0,1.0,11.0,0....|\n",
      "|                 0|           0|            1|Opened by  168|Location 161|Category 24|Subcategory 174|3 - Moderate|        Group 24| Resolver 89|    false|Resolved by 81|       0|           35.0|           1.0|          11.0|              0.0|           0.0|                   4.0|             36.0|            0.0|             37.0|[35.0,1.0,11.0,0....|\n",
      "|                 0|           0|            1|Opened by  168|Location 161|Category 24|Subcategory 174|3 - Moderate|        Group 24| Resolver 89|    false|Resolved by 81|       0|           35.0|           1.0|          11.0|              0.0|           0.0|                   4.0|             36.0|            0.0|             37.0|[35.0,1.0,11.0,0....|\n",
      "|                 0|           0|            1|Opened by  168|Location 161|Category 24|Subcategory 174|3 - Moderate|        Group 24| Resolver 89|    false|Resolved by 81|       0|           35.0|           1.0|          11.0|              0.0|           0.0|                   4.0|             36.0|            0.0|             37.0|[35.0,1.0,11.0,0....|\n",
      "+------------------+------------+-------------+--------------+------------+-----------+---------------+------------+----------------+------------+---------+--------------+--------+---------------+--------------+--------------+-----------------+--------------+----------------------+-----------------+---------------+-----------------+--------------------+\n",
      "only showing top 20 rows\n",
      "\n"
     ]
    }
   ],
   "source": [
    "test_data=fitted_pipe.transform(test_data)\n",
    "test_data.show()"
   ]
  },
  {
   "cell_type": "code",
   "execution_count": 22,
   "metadata": {},
   "outputs": [
    {
     "name": "stdout",
     "output_type": "stream",
     "text": [
      "23/04/15 03:55:52 WARN Instrumentation: [f73ce715] regParam is zero, which might cause numerical instability and overfitting.\n",
      "23/04/15 03:55:53 WARN InstanceBuilder$NativeBLAS: Failed to load implementation from:dev.ludovic.netlib.blas.JNIBLAS\n",
      "23/04/15 03:55:53 WARN InstanceBuilder$NativeBLAS: Failed to load implementation from:dev.ludovic.netlib.blas.ForeignLinkerBLAS\n",
      "23/04/15 03:55:53 WARN InstanceBuilder$NativeLAPACK: Failed to load implementation from:dev.ludovic.netlib.lapack.JNILAPACK\n"
     ]
    }
   ],
   "source": [
    "# For those interested in utilizing the ML/AI power of Tensorflow with Spark....\n",
    "# https://github.com/tensorflow/ecosystem/tree/master/spark/spark-tensorflow-distributor\n",
    "\n",
    "# In this course, we'll use the SparkML (admitedely, it's not as powerful as Tensorflow, but \n",
    "# it's easy to use and demonstrate ML on a Spark Cluster)\n",
    "\n",
    "from pyspark.ml.regression import LinearRegression\n",
    "\n",
    "lr_model = LinearRegression(labelCol='duration')\n",
    "fit_model = lr_model.fit(train_data.select(['features','duration']))\n"
   ]
  },
  {
   "cell_type": "code",
   "execution_count": 23,
   "metadata": {},
   "outputs": [
    {
     "name": "stdout",
     "output_type": "stream",
     "text": [
      "+------------------+------------+-------------+--------------+------------+-----------+---------------+------------+----------------+------------+---------+--------------+--------+---------------+--------------+--------------+-----------------+--------------+----------------------+-----------------+---------------+-----------------+--------------------+-------------------+\n",
      "|reassignment_count|reopen_count|sys_mod_count|     opened_by|    location|   category|    subcategory|    priority|assignment_group| assigned_to|knowledge|   resolved_by|duration|opened_by_index|location_index|category_index|subcategory_index|priority_index|assignment_group_index|assigned_to_index|knowledge_index|resolved_by_index|            features|         prediction|\n",
      "+------------------+------------+-------------+--------------+------------+-----------+---------------+------------+----------------+------------+---------+--------------+--------+---------------+--------------+--------------+-----------------+--------------+----------------------+-----------------+---------------+-----------------+--------------------+-------------------+\n",
      "|                 0|           0|            1|             ?|Location 108|Category 43|Subcategory 107|3 - Moderate|        Group 22| Resolver 94|    false|             ?|       0|            9.0|           3.0|          20.0|             41.0|           0.0|                  20.0|              6.0|            0.0|            124.0|[9.0,3.0,20.0,41....|  8.682186461978668|\n",
      "|                 0|           0|            1|             ?|Location 111|Category 32|Subcategory 174|3 - Moderate|               ?|Resolver 127|    false|             ?|       0|            9.0|           9.0|           4.0|              0.0|           0.0|                   1.0|             52.0|            0.0|            124.0|[9.0,9.0,4.0,0.0,...| 0.3928171383743344|\n",
      "|                 0|           0|            1|             ?|Location 111|Category 32|Subcategory 174|3 - Moderate|               ?| Resolver 94|    false|             ?|       0|            9.0|           9.0|           4.0|              0.0|           0.0|                   1.0|              6.0|            0.0|            124.0|[9.0,9.0,4.0,0.0,...|  -3.49193892177208|\n",
      "|                 0|           0|            1|             ?|Location 143|Category 32|Subcategory 174|3 - Moderate|               ?| Resolver 94|    false|             ?|       0|            9.0|           2.0|           4.0|              0.0|           0.0|                   1.0|              6.0|            0.0|            124.0|[9.0,2.0,4.0,0.0,...|-3.3169088293576845|\n",
      "|                 0|           0|            1|             ?|Location 204|Category 23|  Subcategory 3|3 - Moderate|        Group 20| Resolver 94|    false|             ?|       0|            9.0|           0.0|           7.0|             13.0|           0.0|                  10.0|              6.0|            0.0|            124.0|[9.0,0.0,7.0,13.0...| 1.5058533356425337|\n",
      "|                 0|           0|            1|             ?|Location 204|Category 32|Subcategory 174|3 - Moderate|               ?|Resolver 127|    false|             ?|       0|            9.0|           0.0|           4.0|              0.0|           0.0|                   1.0|             52.0|            0.0|            124.0|[9.0,0.0,4.0,0.0,...| 0.6178558286214149|\n",
      "|                 0|           0|            1|             ?| Location 42|Category 44|Subcategory 174|3 - Moderate|         Group 5| Resolver 17|    false|             ?|       0|            9.0|          17.0|          18.0|              0.0|           0.0|                  31.0|              1.0|            0.0|            124.0|[9.0,17.0,18.0,0....| 11.628360665632917|\n",
      "|                 0|           0|            1|             ?| Location 43|Category 32|Subcategory 174|3 - Moderate|               ?| Resolver 94|    false|             ?|       0|            9.0|           8.0|           4.0|              0.0|           0.0|                   1.0|              6.0|            0.0|            124.0|[9.0,8.0,4.0,0.0,...| -3.466934622855738|\n",
      "|                 0|           0|            1|             ?| Location 51|Category 32|Subcategory 174|3 - Moderate|               ?| Resolver 17|    false|             ?|       0|            9.0|           5.0|           4.0|              0.0|           0.0|                   1.0|              1.0|            0.0|            124.0|[9.0,5.0,4.0,0.0,...|-3.8141778196008866|\n",
      "|                 0|           0|            1|Opened by  124| Location 71|Category 28|Subcategory 174|3 - Moderate|        Group 23| Resolver 69|    false|Resolved by 62|       0|           33.0|          36.0|          15.0|              0.0|           0.0|                   5.0|              9.0|            0.0|              7.0|[33.0,36.0,15.0,0...|  5.809907019081502|\n",
      "|                 0|           0|            1|Opened by  124| Location 93|Category 23|  Subcategory 3|3 - Moderate|        Group 20| Resolver 69|    false|Resolved by 62|       0|           33.0|           4.0|           7.0|             13.0|           0.0|                  10.0|              9.0|            0.0|              7.0|[33.0,4.0,7.0,13....|  7.697554922729631|\n",
      "|                 0|           0|            1|Opened by  124| Location 93| Category 9|Subcategory 174|3 - Moderate|        Group 23| Resolver 69|    false|Resolved by 62|       0|           33.0|           4.0|           5.0|              0.0|           0.0|                   5.0|              9.0|            0.0|              7.0|[33.0,4.0,5.0,0.0...|  4.873295074318651|\n",
      "|                 0|           0|            1|Opened by  168|Location 161|Category 24|Subcategory 174|3 - Moderate|        Group 24| Resolver 89|    false|Resolved by 81|       0|           35.0|           1.0|          11.0|              0.0|           0.0|                   4.0|             36.0|            0.0|             37.0|[35.0,1.0,11.0,0....|  6.320923511485018|\n",
      "|                 0|           0|            1|Opened by  168|Location 161|Category 24|Subcategory 174|3 - Moderate|        Group 24| Resolver 89|    false|Resolved by 81|       0|           35.0|           1.0|          11.0|              0.0|           0.0|                   4.0|             36.0|            0.0|             37.0|[35.0,1.0,11.0,0....|  6.320923511485018|\n",
      "|                 0|           0|            1|Opened by  168|Location 161|Category 24|Subcategory 174|3 - Moderate|        Group 24| Resolver 89|    false|Resolved by 81|       0|           35.0|           1.0|          11.0|              0.0|           0.0|                   4.0|             36.0|            0.0|             37.0|[35.0,1.0,11.0,0....|  6.320923511485018|\n",
      "|                 0|           0|            1|Opened by  168|Location 161|Category 24|Subcategory 174|3 - Moderate|        Group 24| Resolver 89|    false|Resolved by 81|       0|           35.0|           1.0|          11.0|              0.0|           0.0|                   4.0|             36.0|            0.0|             37.0|[35.0,1.0,11.0,0....|  6.320923511485018|\n",
      "|                 0|           0|            1|Opened by  168|Location 161|Category 24|Subcategory 174|3 - Moderate|        Group 24| Resolver 89|    false|Resolved by 81|       0|           35.0|           1.0|          11.0|              0.0|           0.0|                   4.0|             36.0|            0.0|             37.0|[35.0,1.0,11.0,0....|  6.320923511485018|\n",
      "|                 0|           0|            1|Opened by  168|Location 161|Category 24|Subcategory 174|3 - Moderate|        Group 24| Resolver 89|    false|Resolved by 81|       0|           35.0|           1.0|          11.0|              0.0|           0.0|                   4.0|             36.0|            0.0|             37.0|[35.0,1.0,11.0,0....|  6.320923511485018|\n",
      "|                 0|           0|            1|Opened by  168|Location 161|Category 24|Subcategory 174|3 - Moderate|        Group 24| Resolver 89|    false|Resolved by 81|       0|           35.0|           1.0|          11.0|              0.0|           0.0|                   4.0|             36.0|            0.0|             37.0|[35.0,1.0,11.0,0....|  6.320923511485018|\n",
      "|                 0|           0|            1|Opened by  168|Location 161|Category 24|Subcategory 174|3 - Moderate|        Group 24| Resolver 89|    false|Resolved by 81|       0|           35.0|           1.0|          11.0|              0.0|           0.0|                   4.0|             36.0|            0.0|             37.0|[35.0,1.0,11.0,0....|  6.320923511485018|\n",
      "+------------------+------------+-------------+--------------+------------+-----------+---------------+------------+----------------+------------+---------+--------------+--------+---------------+--------------+--------------+-----------------+--------------+----------------------+-----------------+---------------+-----------------+--------------------+-------------------+\n",
      "only showing top 20 rows\n",
      "\n"
     ]
    }
   ],
   "source": [
    "results = fit_model.transform(test_data)\n",
    "results.show()"
   ]
  },
  {
   "cell_type": "code",
   "execution_count": 24,
   "metadata": {},
   "outputs": [
    {
     "name": "stdout",
     "output_type": "stream",
     "text": [
      "+--------+-------------------+\n",
      "|duration|         prediction|\n",
      "+--------+-------------------+\n",
      "|       0|  8.682186461978668|\n",
      "|       0| 0.3928171383743344|\n",
      "|       0|  -3.49193892177208|\n",
      "|       0|-3.3169088293576845|\n",
      "|       0| 1.5058533356425337|\n",
      "|       0| 0.6178558286214149|\n",
      "|       0| 11.628360665632917|\n",
      "|       0| -3.466934622855738|\n",
      "|       0|-3.8141778196008866|\n",
      "|       0|  5.809907019081502|\n",
      "|       0|  7.697554922729631|\n",
      "|       0|  4.873295074318651|\n",
      "|       0|  6.320923511485018|\n",
      "|       0|  6.320923511485018|\n",
      "|       0|  6.320923511485018|\n",
      "|       0|  6.320923511485018|\n",
      "|       0|  6.320923511485018|\n",
      "|       0|  6.320923511485018|\n",
      "|       0|  6.320923511485018|\n",
      "|       0|  6.320923511485018|\n",
      "+--------+-------------------+\n",
      "only showing top 20 rows\n",
      "\n"
     ]
    }
   ],
   "source": [
    "results.select(['duration','prediction']).show()"
   ]
  },
  {
   "attachments": {},
   "cell_type": "markdown",
   "metadata": {},
   "source": [
    "## Evaluate the peformance of the Linear Regression Model"
   ]
  },
  {
   "cell_type": "code",
   "execution_count": 25,
   "metadata": {},
   "outputs": [],
   "source": [
    "test_results = fit_model.evaluate(test_data)"
   ]
  },
  {
   "cell_type": "code",
   "execution_count": 26,
   "metadata": {},
   "outputs": [
    {
     "name": "stdout",
     "output_type": "stream",
     "text": [
      "+-------------------+\n",
      "|          residuals|\n",
      "+-------------------+\n",
      "| -8.682186461978668|\n",
      "|-0.3928171383743344|\n",
      "|   3.49193892177208|\n",
      "| 3.3169088293576845|\n",
      "|-1.5058533356425337|\n",
      "|-0.6178558286214149|\n",
      "|-11.628360665632917|\n",
      "|  3.466934622855738|\n",
      "| 3.8141778196008866|\n",
      "| -5.809907019081502|\n",
      "| -7.697554922729631|\n",
      "| -4.873295074318651|\n",
      "| -6.320923511485018|\n",
      "| -6.320923511485018|\n",
      "| -6.320923511485018|\n",
      "| -6.320923511485018|\n",
      "| -6.320923511485018|\n",
      "| -6.320923511485018|\n",
      "| -6.320923511485018|\n",
      "| -6.320923511485018|\n",
      "+-------------------+\n",
      "only showing top 20 rows\n",
      "\n"
     ]
    }
   ],
   "source": [
    "test_results.residuals.show()"
   ]
  },
  {
   "cell_type": "code",
   "execution_count": 27,
   "metadata": {},
   "outputs": [
    {
     "name": "stdout",
     "output_type": "stream",
     "text": [
      "RMSE:    20.682\n",
      "Ex Var:  43.343\n",
      "MAE:      8.971\n",
      "MSE:    427.746\n",
      "RMSE:    20.682\n",
      "R2:       0.077\n"
     ]
    }
   ],
   "source": [
    "print(f\"{'RMSE:':7s} {test_results.rootMeanSquaredError:>7.3f}\")\n",
    "print(f\"{'Ex Var:':7s} {test_results.explainedVariance:>7.3f}\")\n",
    "print(f\"{'MAE:':7s} {test_results.meanAbsoluteError:>7.3f}\")\n",
    "print(f\"{'MSE:':7s} {test_results.meanSquaredError:>7.3f}\")\n",
    "print(f\"{'RMSE:':7s} {test_results.rootMeanSquaredError:>7.3f}\")\n",
    "print(f\"{'R2:':7s} {test_results.r2:>7.3f}\")"
   ]
  }
 ],
 "metadata": {
  "kernelspec": {
   "display_name": "spark",
   "language": "python",
   "name": "python3"
  },
  "language_info": {
   "codemirror_mode": {
    "name": "ipython",
    "version": 3
   },
   "file_extension": ".py",
   "mimetype": "text/x-python",
   "name": "python",
   "nbconvert_exporter": "python",
   "pygments_lexer": "ipython3",
   "version": "3.10.10"
  },
  "orig_nbformat": 4
 },
 "nbformat": 4,
 "nbformat_minor": 2
}
